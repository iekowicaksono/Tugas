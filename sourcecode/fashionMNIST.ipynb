{
 "cells": [
  {
   "cell_type": "code",
   "execution_count": 1,
   "metadata": {},
   "outputs": [
    {
     "ename": "SyntaxError",
     "evalue": "invalid syntax (1648462431.py, line 2)",
     "output_type": "error",
     "traceback": [
      "\u001b[1;36m  Input \u001b[1;32mIn [1]\u001b[1;36m\u001b[0m\n\u001b[1;33m    pip install matplotlib\u001b[0m\n\u001b[1;37m        ^\u001b[0m\n\u001b[1;31mSyntaxError\u001b[0m\u001b[1;31m:\u001b[0m invalid syntax\n"
     ]
    }
   ],
   "source": [
    "#pip install tensorflow\n",
    "pip install matplotlib"
   ]
  },
  {
   "cell_type": "code",
   "execution_count": 2,
   "metadata": {},
   "outputs": [
    {
     "ename": "ModuleNotFoundError",
     "evalue": "No module named 'matplotlib'",
     "output_type": "error",
     "traceback": [
      "\u001b[1;31m---------------------------------------------------------------------------\u001b[0m",
      "\u001b[1;31mModuleNotFoundError\u001b[0m                       Traceback (most recent call last)",
      "\u001b[1;32mc:\\Users\\Dell\\Documents\\PhD\\Semester 3\\Pebelejaran Mesin Lanjut\\Tugas\\sourcecode\\digitrecognition.ipynb Cell 2'\u001b[0m in \u001b[0;36m<cell line: 14>\u001b[1;34m()\u001b[0m\n\u001b[0;32m     <a href='vscode-notebook-cell:/c%3A/Users/Dell/Documents/PhD/Semester%203/Pebelejaran%20Mesin%20Lanjut/Tugas/sourcecode/digitrecognition.ipynb#ch0000000?line=10'>11</a>\u001b[0m \u001b[39m# Split MNIST data into train and testing\u001b[39;00m\n\u001b[0;32m     <a href='vscode-notebook-cell:/c%3A/Users/Dell/Documents/PhD/Semester%203/Pebelejaran%20Mesin%20Lanjut/Tugas/sourcecode/digitrecognition.ipynb#ch0000000?line=11'>12</a>\u001b[0m (x_train, y_train), (x_test, y_test) \u001b[39m=\u001b[39m tf\u001b[39m.\u001b[39mkeras\u001b[39m.\u001b[39mdatasets\u001b[39m.\u001b[39mfashion_mnist\u001b[39m.\u001b[39mload_data()\n\u001b[1;32m---> <a href='vscode-notebook-cell:/c%3A/Users/Dell/Documents/PhD/Semester%203/Pebelejaran%20Mesin%20Lanjut/Tugas/sourcecode/digitrecognition.ipynb#ch0000000?line=13'>14</a>\u001b[0m \u001b[39mimport\u001b[39;00m \u001b[39mmatplotlib\u001b[39;00m\u001b[39m.\u001b[39;00m\u001b[39mpyplot\u001b[39;00m \u001b[39mas\u001b[39;00m \u001b[39mplt\u001b[39;00m\n\u001b[0;32m     <a href='vscode-notebook-cell:/c%3A/Users/Dell/Documents/PhD/Semester%203/Pebelejaran%20Mesin%20Lanjut/Tugas/sourcecode/digitrecognition.ipynb#ch0000000?line=14'>15</a>\u001b[0m \u001b[39m#plot the first image in the dataset\u001b[39;00m\n\u001b[0;32m     <a href='vscode-notebook-cell:/c%3A/Users/Dell/Documents/PhD/Semester%203/Pebelejaran%20Mesin%20Lanjut/Tugas/sourcecode/digitrecognition.ipynb#ch0000000?line=15'>16</a>\u001b[0m plt\u001b[39m.\u001b[39mimshow(x_train[\u001b[39m0\u001b[39m])\n",
      "\u001b[1;31mModuleNotFoundError\u001b[0m: No module named 'matplotlib'"
     ]
    }
   ],
   "source": [
    "import tensorflow as tf\n",
    "import keras\n",
    "\n",
    "from keras import optimizers\n",
    "from keras.datasets import mnist\n",
    "from keras.models import Sequential\n",
    "from keras.layers import Dense, Dropout, Flatten\n",
    "from keras.layers import Conv2D, MaxPooling2D\n",
    "from keras import backend as K\n",
    "\n",
    "# Split MNIST data into train and testing\n",
    "(x_train, y_train), (x_test, y_test) = tf.keras.datasets.fashion_mnist.load_data()\n",
    "\n",
    "import matplotlib.pyplot as plt\n",
    "#plot the first image in the dataset\n",
    "plt.imshow(x_train[0])"
   ]
  }
 ],
 "metadata": {
  "interpreter": {
   "hash": "571633143b250467de1999a1c15ae67a740c8ed3ceebaf0d7850372b7d7c1896"
  },
  "kernelspec": {
   "display_name": "Python 3.9.10 64-bit (windows store)",
   "language": "python",
   "name": "python3"
  },
  "language_info": {
   "codemirror_mode": {
    "name": "ipython",
    "version": 3
   },
   "file_extension": ".py",
   "mimetype": "text/x-python",
   "name": "python",
   "nbconvert_exporter": "python",
   "pygments_lexer": "ipython3",
   "version": "3.9.10"
  },
  "orig_nbformat": 4
 },
 "nbformat": 4,
 "nbformat_minor": 2
}
