{
  "cells": [
    {
      "cell_type": "code",
      "execution_count": 1,
      "metadata": {
        "id": "RsGqx_ai_N8F"
      },
      "outputs": [],
      "source": [
        "# Import Tensorflow 2.0\n",
        "#tensorflow_version 2.x\n",
        "import tensorflow as tf \n",
        "\n",
        "#! pip install mitdeeplearning\n",
        "import mitdeeplearning as mdl\n",
        "\n",
        "import matplotlib.pyplot as plt\n",
        "import numpy as np\n",
        "from tqdm import tqdm\n",
        "\n",
        "# Check that we are using a GPU, if not switch runtimes\n",
        "#   using Runtime > Change Runtime Type > GPU\n",
        "# assert len(tf.config.list_physical_devices('GPU')) > 0"
      ]
    },
    {
      "cell_type": "code",
      "execution_count": 2,
      "metadata": {
        "id": "p2dQsHI3_N8K"
      },
      "outputs": [],
      "source": [
        "#mnist = tf.keras.datasets.mnist\n",
        "#Training Fashion MNIST Dataset\n",
        "(train_images, train_labels), (test_images, test_labels) = tf.keras.datasets.fashion_mnist.load_data()\n",
        "train_images = (np.expand_dims(train_images, axis=-1)/255.).astype(np.float32)\n",
        "train_labels = (train_labels).astype(np.int64)\n",
        "test_images = (np.expand_dims(test_images, axis=-1)/255.).astype(np.float32)\n",
        "test_labels = (test_labels).astype(np.int64)"
      ]
    },
    {
      "cell_type": "code",
      "execution_count": null,
      "metadata": {
        "id": "bDBsR2lP_N8O",
        "scrolled": true
      },
      "outputs": [],
      "source": [
        "plt.figure(figsize=(10,10))\n",
        "random_inds = np.random.choice(60000,36)\n",
        "for i in range(36):\n",
        "    plt.subplot(6,6,i+1)\n",
        "    plt.xticks([])\n",
        "    plt.yticks([])\n",
        "    plt.grid(False)\n",
        "    image_ind = random_inds[i]\n",
        "    plt.imshow(np.squeeze(train_images[image_ind]), cmap=plt.cm.binary)\n",
        "    plt.xlabel(train_labels[image_ind])"
      ]
    },
    {
      "cell_type": "code",
      "execution_count": 3,
      "metadata": {
        "id": "vec9qcJs-9W5"
      },
      "outputs": [
        {
          "name": "stdout",
          "output_type": "stream",
          "text": [
            "Model: \"sequential\"\n",
            "_________________________________________________________________\n",
            " Layer (type)                Output Shape              Param #   \n",
            "=================================================================\n",
            " conv2d (Conv2D)             (None, 26, 26, 32)        320       \n",
            "                                                                 \n",
            " conv2d_1 (Conv2D)           (None, 24, 24, 128)       36992     \n",
            "                                                                 \n",
            " max_pooling2d (MaxPooling2D  (None, 12, 12, 128)      0         \n",
            " )                                                               \n",
            "                                                                 \n",
            " flatten (Flatten)           (None, 18432)             0         \n",
            "                                                                 \n",
            " dense (Dense)               (None, 128)               2359424   \n",
            "                                                                 \n",
            " dense_1 (Dense)             (None, 128)               16512     \n",
            "                                                                 \n",
            " dense_2 (Dense)             (None, 10)                1290      \n",
            "                                                                 \n",
            "=================================================================\n",
            "Total params: 2,414,538\n",
            "Trainable params: 2,414,538\n",
            "Non-trainable params: 0\n",
            "_________________________________________________________________\n",
            "None\n"
          ]
        }
      ],
      "source": [
        "def build_cnn_model():\n",
        "    cnn_model = tf.keras.Sequential([\n",
        "\n",
        "        # TODO: Define the first convolutional layer\n",
        "        tf.keras.layers.Conv2D(filters=32, kernel_size=(3,3), activation=tf.nn.relu),\n",
        "        tf.keras.layers.Conv2D(filters=128, kernel_size=(3,3), activation=tf.nn.relu),\n",
        "        #tf.keras.layers.Conv2D(filters=24, kernel_size=(3,3), activation=tf.nn.relu),\n",
        "        #tf.keras.layers.Conv2D(filters=24, kernel_size=(3,3), activation=tf.nn.relu),\n",
        "        #tf.keras.layers.Conv2D(filters=24, kernel_size=(3,3), activation=tf.nn.relu),\n",
        "        # tf.keras.layers.Conv2D('''TODO''') \n",
        "\n",
        "        # TODO: Define the first max pooling layer\n",
        "        #tf.keras.layers.MaxPool2D(pool_size=(2,2)),\n",
        "        # tf.keras.layers.MaxPool2D('''TODO''')\n",
        "\n",
        "        # TODO: Define the second convolutional layer\n",
        "        #tf.keras.layers.Conv2D(filters=32, kernel_size=(3,3), activation=tf.nn.relu),\n",
        "        # tf.keras.layers.Conv2D('''TODO''')\n",
        "\n",
        "        # TODO: Define the second max pooling layer\n",
        "        tf.keras.layers.MaxPool2D(pool_size=(2,2)),\n",
        "        # tf.keras.layers.MaxPool2D('''TODO''')\n",
        "\n",
        "        tf.keras.layers.Flatten(),\n",
        "        tf.keras.layers.Dense(128, activation=tf.nn.relu),\n",
        "        tf.keras.layers.Dense(128, activation=tf.nn.relu),\n",
        "        #tf.keras.layers.Dense(128, activation=tf.nn.relu),\n",
        "        #tf.keras.layers.Dense(128, activation=tf.nn.relu),\n",
        "        #tf.keras.layers.Dense(128, activation=tf.nn.relu),\n",
        "\n",
        "        # TODO: Define the last Dense layer to output the classification \n",
        "        # probabilities. Pay attention to the activation needed a probability\n",
        "        # output\n",
        "        tf.keras.layers.Dense(10, activation=tf.nn.softmax)\n",
        "        # [TODO Dense layer to output classification probabilities]\n",
        "    ])\n",
        "    \n",
        "    return cnn_model\n",
        "  \n",
        "cnn_model = build_cnn_model()\n",
        "# Initialize the model by passing some data through\n",
        "cnn_model.predict(train_images[[0]])\n",
        "# Print the summary of the layers in the model.\n",
        "print(cnn_model.summary())"
      ]
    },
    {
      "cell_type": "code",
      "execution_count": 12,
      "metadata": {
        "id": "vheyanDkCg6a"
      },
      "outputs": [],
      "source": [
        "'''TODO: Define the batch size and the number of epochs to use during training'''\n",
        "BATCH_SIZE = 64\n",
        "EPOCHS = 10\n",
        "learning_rate = 1e-3\n"
      ]
    },
    {
      "cell_type": "code",
      "execution_count": null,
      "metadata": {},
      "outputs": [],
      "source": [
        "'''TODO: Define the compile operation with your optimizer and learning rate of choice'''\n",
        "cnn_model.compile(\n",
        "              optimizer=tf.keras.optimizers.Adamax(learning_rate=learning_rate),\n",
        "              loss='sparse_categorical_crossentropy',\n",
        "              metrics=['accuracy'])\n",
        "# cnn_model.compile(optimizer='''TODO''', loss='''TODO''', metrics=['accuracy']) # TODO"
      ]
    },
    {
      "cell_type": "code",
      "execution_count": 21,
      "metadata": {
        "id": "YdrGZVmWDK4p"
      },
      "outputs": [
        {
          "name": "stdout",
          "output_type": "stream",
          "text": [
            "Epoch 1/10\n",
            "844/844 [==============================] - 207s 245ms/step - loss: 0.0035 - accuracy: 0.9993 - val_loss: 0.0023 - val_accuracy: 0.9998\n",
            "Epoch 2/10\n",
            "844/844 [==============================] - 220s 260ms/step - loss: 0.0018 - accuracy: 0.9997 - val_loss: 0.0040 - val_accuracy: 0.9993\n",
            "Epoch 3/10\n",
            "844/844 [==============================] - 208s 247ms/step - loss: 0.0015 - accuracy: 0.9999 - val_loss: 0.0020 - val_accuracy: 0.9997\n",
            "Epoch 4/10\n",
            "844/844 [==============================] - 222s 263ms/step - loss: 0.0022 - accuracy: 0.9995 - val_loss: 0.0021 - val_accuracy: 0.9997\n",
            "Epoch 5/10\n",
            "844/844 [==============================] - 209s 248ms/step - loss: 0.0014 - accuracy: 0.9997 - val_loss: 0.0030 - val_accuracy: 0.9990\n",
            "Epoch 6/10\n",
            "844/844 [==============================] - 201s 238ms/step - loss: 4.3606e-04 - accuracy: 1.0000 - val_loss: 0.0027 - val_accuracy: 0.9992\n",
            "Epoch 7/10\n",
            "844/844 [==============================] - 204s 241ms/step - loss: 4.2308e-04 - accuracy: 0.9999 - val_loss: 0.0077 - val_accuracy: 0.9970\n",
            "Epoch 8/10\n",
            "844/844 [==============================] - 234s 278ms/step - loss: 0.0014 - accuracy: 0.9996 - val_loss: 0.0036 - val_accuracy: 0.9993\n",
            "Epoch 9/10\n",
            "844/844 [==============================] - 209s 248ms/step - loss: 3.5106e-04 - accuracy: 1.0000 - val_loss: 0.0019 - val_accuracy: 0.9998\n",
            "Epoch 10/10\n",
            "844/844 [==============================] - 210s 249ms/step - loss: 1.1574e-04 - accuracy: 1.0000 - val_loss: 0.0017 - val_accuracy: 0.9997\n"
          ]
        },
        {
          "data": {
            "text/plain": [
              "{'loss': [0.003528712783008814,\n",
              "  0.0017718450399115682,\n",
              "  0.0014721682528033853,\n",
              "  0.0021642001811414957,\n",
              "  0.0014022532850503922,\n",
              "  0.00043605570681393147,\n",
              "  0.00042308479896746576,\n",
              "  0.0013955110916867852,\n",
              "  0.00035106088034808636,\n",
              "  0.00011573813389986753],\n",
              " 'accuracy': [0.9992592334747314,\n",
              "  0.9997222423553467,\n",
              "  0.9998703598976135,\n",
              "  0.9995370507240295,\n",
              "  0.9996851682662964,\n",
              "  1.0,\n",
              "  0.9999259114265442,\n",
              "  0.9996296167373657,\n",
              "  0.9999814629554749,\n",
              "  1.0],\n",
              " 'val_loss': [0.0022752273362129927,\n",
              "  0.004046757239848375,\n",
              "  0.0019815941341221333,\n",
              "  0.002100132405757904,\n",
              "  0.0030317376367747784,\n",
              "  0.0027083968743681908,\n",
              "  0.007676237728446722,\n",
              "  0.0036365839187055826,\n",
              "  0.001865769037976861,\n",
              "  0.0017172114457935095],\n",
              " 'val_accuracy': [0.999833345413208,\n",
              "  0.9993333220481873,\n",
              "  0.999666690826416,\n",
              "  0.999666690826416,\n",
              "  0.9990000128746033,\n",
              "  0.9991666674613953,\n",
              "  0.996999979019165,\n",
              "  0.9993333220481873,\n",
              "  0.999833345413208,\n",
              "  0.999666690826416]}"
            ]
          },
          "execution_count": 21,
          "metadata": {},
          "output_type": "execute_result"
        }
      ],
      "source": [
        "from datetime import datetime\n",
        "start_time = datetime.now()\n",
        "'''TODO: Use model.fit to train the CNN model, with the same batch_size and number of epochs previously used.'''\n",
        "#callback = tf.keras.callbacks.LearningRateScheduler(scheduler)\n",
        "history = cnn_model.fit(train_images, train_labels, validation_split = 0.1, batch_size=BATCH_SIZE, epochs=EPOCHS,)# callbacks=[callback], verbose=0)\n",
        "# cnn_model.fit('''TODO''')\n",
        "end_time = datetime.now()\n",
        "#round(cnn_model.optimizer.learning_rate.numpy(), 5)\n",
        "history.history"
      ]
    },
    {
      "cell_type": "code",
      "execution_count": 23,
      "metadata": {},
      "outputs": [
        {
          "data": {
            "image/png": "[encoded data removed]",
            "text/plain": [
              "<Figure size 432x288 with 1 Axes>"
            ]
          },
          "metadata": {
            "needs_background": "light"
          },
          "output_type": "display_data"
        }
      ],
      "source": [
        "import keras\n",
        "from matplotlib import pyplot as plt\n",
        "#history = model1.fit(train_x, train_y,validation_split = 0.1, epochs=50, batch_size=4)\n",
        "plt.plot(history.history['accuracy'])\n",
        "plt.plot(history.history['val_accuracy'])\n",
        "plt.title('akurasi model tanpa scheduler')\n",
        "plt.ylabel('accuracy')\n",
        "plt.xlabel('epoch')\n",
        "plt.legend(['train', 'val'], loc='upper left')\n",
        "plt.show()"
      ]
    },
    {
      "cell_type": "code",
      "execution_count": 24,
      "metadata": {
        "id": "JDm4znZcDtNl"
      },
      "outputs": [
        {
          "name": "stdout",
          "output_type": "stream",
          "text": [
            "313/313 [==============================] - 15s 49ms/step - loss: 0.5776 - accuracy: 0.9280\n",
            "Test accuracy: 0.9279999732971191\n",
            "Duration: 0:35:23.574286\n"
          ]
        }
      ],
      "source": [
        "'''TODO: Use the evaluate method to test the model!'''\n",
        "test_loss, test_acc = cnn_model.evaluate(test_images, test_labels)\n",
        "# test_loss, test_acc = # TODO\n",
        "\n",
        "print('Test accuracy:', test_acc)\n",
        "print('Duration: {}'.format(end_time - start_time))"
      ]
    },
    {
      "cell_type": "code",
      "execution_count": 27,
      "metadata": {
        "id": "Gl91RPhdCaXI"
      },
      "outputs": [],
      "source": [
        "'''TODO: Define learning rate scheduller'''\n",
        "learning_rate = 1e-3\n",
        "decay = learning_rate/EPOCHS\n",
        "\n",
        "'''def scheduler(EPOCHS, learning_rate):\n",
        "   if EPOCHS < 10:\n",
        "     return learning_rate\n",
        "   else:\n",
        "     return learning_rate * tf.math.exp(-0.1)\n",
        "'''\n",
        "'''TODO: Defined as a class to save parameters as attributes'''\n",
        "class lr_polynomial_decay:\n",
        "\tdef __init__(self, epochs=EPOCHS, initial_learning_rate=learning_rate, power=1.0):\n",
        "\t\t# store the maximum number of epochs, base learning rate,\n",
        "\t\t# and power of the polynomial\n",
        "\t\tself.epochs = epochs\n",
        "\t\tself.initial_learning_rate = initial_learning_rate\n",
        "\t\tself.power = power\n",
        "        \n",
        "\tdef __call__(self, epoch):\n",
        "\t\t# compute the new learning rate based on polynomial decay\n",
        "\t\tdecay = (1 - (epoch / float(self.epochs))) ** self.power\n",
        "\t\tupdated_eta = self.initial_learning_rate * decay\n",
        "\t\t# return the new learning rate\n",
        "\t\treturn float(updated_eta)"
      ]
    },
    {
      "cell_type": "code",
      "execution_count": 28,
      "metadata": {},
      "outputs": [],
      "source": [
        "curScheduler = lr_polynomial_decay(epochs=EPOCHS, initial_learning_rate=learning_rate, power=1)\n",
        "\n",
        "'''TODO: Define the compile operation with your optimizer and learning rate of choice'''\n",
        "cnn_model.compile(\n",
        "              optimizer='adamax',\n",
        "              loss='sparse_categorical_crossentropy',\n",
        "              metrics=['accuracy'])\n",
        "#round(cnn_model.optimizer.lr.numpy(), 10)\n",
        "# cnn_model.compile(optimizer='''TODO''', loss='''TODO''', metrics=['accuracy']) # TODO"
      ]
    },
    {
      "cell_type": "code",
      "execution_count": 29,
      "metadata": {},
      "outputs": [
        {
          "data": {
            "text/plain": [
              "{'loss': [0.0038918936625123024,\n",
              "  0.0001583795965416357,\n",
              "  0.00010049041156889871,\n",
              "  7.004917279118672e-05,\n",
              "  0.0001082146045519039,\n",
              "  4.0604321839055046e-05,\n",
              "  2.996419061673805e-05,\n",
              "  2.313464938197285e-05,\n",
              "  1.584782512509264e-05,\n",
              "  1.1141287359350827e-05],\n",
              " 'accuracy': [0.9990555644035339, 1.0, 1.0, 1.0, 1.0, 1.0, 1.0, 1.0, 1.0, 1.0],\n",
              " 'val_loss': [0.002194023225456476,\n",
              "  0.0018865769961848855,\n",
              "  0.001861979835666716,\n",
              "  0.0024536242708563805,\n",
              "  0.0017747473903000355,\n",
              "  0.0019718760158866644,\n",
              "  0.0023728504311293364,\n",
              "  0.0023494295310229063,\n",
              "  0.0027093933895230293,\n",
              "  0.002570315031334758],\n",
              " 'val_accuracy': [0.999666690826416,\n",
              "  0.999833345413208,\n",
              "  0.9994999766349792,\n",
              "  0.9991666674613953,\n",
              "  0.9994999766349792,\n",
              "  0.9991666674613953,\n",
              "  0.9991666674613953,\n",
              "  0.9991666674613953,\n",
              "  0.9988333582878113,\n",
              "  0.9991666674613953],\n",
              " 'lr': [0.001,\n",
              "  0.0009,\n",
              "  0.0008,\n",
              "  0.0007,\n",
              "  0.0006,\n",
              "  0.0005,\n",
              "  0.0004,\n",
              "  0.0003,\n",
              "  0.0002,\n",
              "  1e-04]}"
            ]
          },
          "execution_count": 29,
          "metadata": {},
          "output_type": "execute_result"
        }
      ],
      "source": [
        "from datetime import datetime\n",
        "start_time = datetime.now()\n",
        "'''TODO: Use model.fit to train the CNN model, with the same batch_size and number of epochs previously used.'''\n",
        "callback = tf.keras.callbacks.LearningRateScheduler(curScheduler)\n",
        "history_scheduler = cnn_model.fit(train_images, train_labels, validation_split = 0.1, batch_size=BATCH_SIZE, epochs=EPOCHS, callbacks=[callback], verbose=0)\n",
        "# cnn_model.fit('''TODO''')\n",
        "end_time = datetime.now()\n",
        "#round(cnn_model.optimizer.learning_rate.numpy(), 5)\n",
        "history_scheduler.history"
      ]
    },
    {
      "cell_type": "code",
      "execution_count": 30,
      "metadata": {},
      "outputs": [
        {
          "data": {
            "image/png": "[encoded data removed]",
            "text/plain": [
              "<Figure size 432x288 with 1 Axes>"
            ]
          },
          "metadata": {
            "needs_background": "light"
          },
          "output_type": "display_data"
        }
      ],
      "source": [
        "import keras\n",
        "from matplotlib import pyplot as plt\n",
        "#history = model1.fit(train_x, train_y,validation_split = 0.1, epochs=50, batch_size=4)\n",
        "plt.plot(history_scheduler.history['accuracy'])\n",
        "plt.plot(history_scheduler.history['val_accuracy'])\n",
        "plt.title('akurasi model tanpa scheduler')\n",
        "plt.ylabel('accuracy')\n",
        "plt.xlabel('epoch')\n",
        "plt.legend(['train', 'val'], loc='upper left')\n",
        "plt.show()"
      ]
    },
    {
      "cell_type": "code",
      "execution_count": 31,
      "metadata": {},
      "outputs": [
        {
          "name": "stdout",
          "output_type": "stream",
          "text": [
            "313/313 [==============================] - 12s 39ms/step - loss: 0.7180 - accuracy: 0.9282\n",
            "Test accuracy: 0.9282000064849854\n",
            "Duration: 0:33:09.355727\n"
          ]
        }
      ],
      "source": [
        "'''TODO: Use the evaluate method to test the model!'''\n",
        "test_loss, test_acc = cnn_model.evaluate(test_images, test_labels)\n",
        "# test_loss, test_acc = # TODO\n",
        "\n",
        "print('Test accuracy:', test_acc)\n",
        "print('Duration: {}'.format(end_time - start_time))"
      ]
    }
  ],
  "metadata": {
    "accelerator": "GPU",
    "colab": {
      "collapsed_sections": [
        "Xmf_JRJa_N8C"
      ],
      "name": "Part1_MNIST_Solution.ipynb",
      "provenance": []
    },
    "kernelspec": {
      "display_name": "Python 3",
      "name": "python3"
    },
    "language_info": {
      "codemirror_mode": {
        "name": "ipython",
        "version": 3
      },
      "file_extension": ".py",
      "mimetype": "text/x-python",
      "name": "python",
      "nbconvert_exporter": "python",
      "pygments_lexer": "ipython3",
      "version": "3.9.10"
    }
  },
  "nbformat": 4,
  "nbformat_minor": 0
}
